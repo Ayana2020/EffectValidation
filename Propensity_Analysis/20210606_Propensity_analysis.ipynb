{
 "cells": [
  {
   "cell_type": "markdown",
   "metadata": {},
   "source": [
    "岩波本のコードを使った下記のQIITA参照 \n",
    "https://qiita.com/0NE_shoT_/items/286a99d66cf6d3aaccf0\n",
    "\n",
    "\n",
    "### 検証目的\n",
    "アプリ利用を促進するCMを見たユーザーが、実際にアプリを利用するようになったかを検証したい  \n",
    "\n",
    "\n",
    "## データ\n",
    "### 共変量：X\n",
    "TV視聴時間、性別や年齢など\n",
    "\n",
    "### 群別を表す変数：Z \n",
    "CMを見たかどうか\n",
    "\n",
    "### 目的変数: y\n",
    "アプリ利用をしたか"
   ]
  },
  {
   "cell_type": "markdown",
   "metadata": {},
   "source": [
    "# 手順\n",
    "\n",
    "1. 傾向スコアを推定するモデル構築\n",
    "2. 傾向スコアの推定モデルの精度確認\n",
    "3. ATTの算出\n",
    "4. 共変量の分布の確認"
   ]
  },
  {
   "cell_type": "markdown",
   "metadata": {},
   "source": [
    "# import"
   ]
  },
  {
   "cell_type": "code",
   "execution_count": 2,
   "metadata": {},
   "outputs": [],
   "source": [
    "import numpy as np\n",
    "import pandas as pd\n",
    "import matplotlib.pyplot as plt\n",
    "import matplotlib as mpl\n",
    "import seaborn as sns\n",
    "\n",
    "\n",
    "import statsmodels.api as sm\n",
    "\n",
    "\n",
    "from sklearn.calibration import calibration_curve\n",
    "from sklearn.metrics import roc_auc_score\n",
    "\n",
    "import itertools\n",
    "import time"
   ]
  },
  {
   "cell_type": "markdown",
   "metadata": {},
   "source": [
    "\n",
    "# データ読み込み"
   ]
  },
  {
   "cell_type": "code",
   "execution_count": 6,
   "metadata": {
    "scrolled": true
   },
   "outputs": [
    {
     "data": {
      "text/html": [
       "<div>\n",
       "<style scoped>\n",
       "    .dataframe tbody tr th:only-of-type {\n",
       "        vertical-align: middle;\n",
       "    }\n",
       "\n",
       "    .dataframe tbody tr th {\n",
       "        vertical-align: top;\n",
       "    }\n",
       "\n",
       "    .dataframe thead th {\n",
       "        text-align: right;\n",
       "    }\n",
       "</style>\n",
       "<table border=\"1\" class=\"dataframe\">\n",
       "  <thead>\n",
       "    <tr style=\"text-align: right;\">\n",
       "      <th></th>\n",
       "      <th>cm_dummy</th>\n",
       "      <th>gamedummy</th>\n",
       "      <th>area_kanto</th>\n",
       "      <th>area_keihan</th>\n",
       "      <th>area_tokai</th>\n",
       "      <th>area_keihanshin</th>\n",
       "      <th>age</th>\n",
       "      <th>sex</th>\n",
       "      <th>marry_dummy</th>\n",
       "      <th>job_dummy1</th>\n",
       "      <th>...</th>\n",
       "      <th>T</th>\n",
       "      <th>F1</th>\n",
       "      <th>F2</th>\n",
       "      <th>F3</th>\n",
       "      <th>M1</th>\n",
       "      <th>M2</th>\n",
       "      <th>M3</th>\n",
       "      <th>TVwatch_day</th>\n",
       "      <th>gamesecond</th>\n",
       "      <th>gamecount</th>\n",
       "    </tr>\n",
       "  </thead>\n",
       "  <tbody>\n",
       "    <tr>\n",
       "      <td>0</td>\n",
       "      <td>0</td>\n",
       "      <td>0</td>\n",
       "      <td>0</td>\n",
       "      <td>0</td>\n",
       "      <td>0</td>\n",
       "      <td>1</td>\n",
       "      <td>44.5</td>\n",
       "      <td>1</td>\n",
       "      <td>1</td>\n",
       "      <td>1</td>\n",
       "      <td>...</td>\n",
       "      <td>0</td>\n",
       "      <td>0</td>\n",
       "      <td>0</td>\n",
       "      <td>0</td>\n",
       "      <td>0</td>\n",
       "      <td>1</td>\n",
       "      <td>0</td>\n",
       "      <td>33.427600</td>\n",
       "      <td>0</td>\n",
       "      <td>0</td>\n",
       "    </tr>\n",
       "    <tr>\n",
       "      <td>1</td>\n",
       "      <td>0</td>\n",
       "      <td>0</td>\n",
       "      <td>0</td>\n",
       "      <td>1</td>\n",
       "      <td>0</td>\n",
       "      <td>0</td>\n",
       "      <td>34.5</td>\n",
       "      <td>1</td>\n",
       "      <td>1</td>\n",
       "      <td>1</td>\n",
       "      <td>...</td>\n",
       "      <td>0</td>\n",
       "      <td>0</td>\n",
       "      <td>0</td>\n",
       "      <td>0</td>\n",
       "      <td>0</td>\n",
       "      <td>1</td>\n",
       "      <td>0</td>\n",
       "      <td>31.542862</td>\n",
       "      <td>0</td>\n",
       "      <td>0</td>\n",
       "    </tr>\n",
       "    <tr>\n",
       "      <td>2</td>\n",
       "      <td>0</td>\n",
       "      <td>0</td>\n",
       "      <td>0</td>\n",
       "      <td>1</td>\n",
       "      <td>0</td>\n",
       "      <td>0</td>\n",
       "      <td>24.5</td>\n",
       "      <td>1</td>\n",
       "      <td>0</td>\n",
       "      <td>0</td>\n",
       "      <td>...</td>\n",
       "      <td>0</td>\n",
       "      <td>0</td>\n",
       "      <td>0</td>\n",
       "      <td>0</td>\n",
       "      <td>1</td>\n",
       "      <td>0</td>\n",
       "      <td>0</td>\n",
       "      <td>37.825805</td>\n",
       "      <td>0</td>\n",
       "      <td>0</td>\n",
       "    </tr>\n",
       "    <tr>\n",
       "      <td>3</td>\n",
       "      <td>0</td>\n",
       "      <td>0</td>\n",
       "      <td>0</td>\n",
       "      <td>1</td>\n",
       "      <td>0</td>\n",
       "      <td>0</td>\n",
       "      <td>44.5</td>\n",
       "      <td>1</td>\n",
       "      <td>1</td>\n",
       "      <td>1</td>\n",
       "      <td>...</td>\n",
       "      <td>0</td>\n",
       "      <td>0</td>\n",
       "      <td>0</td>\n",
       "      <td>0</td>\n",
       "      <td>0</td>\n",
       "      <td>1</td>\n",
       "      <td>0</td>\n",
       "      <td>36.345911</td>\n",
       "      <td>0</td>\n",
       "      <td>0</td>\n",
       "    </tr>\n",
       "    <tr>\n",
       "      <td>4</td>\n",
       "      <td>0</td>\n",
       "      <td>0</td>\n",
       "      <td>0</td>\n",
       "      <td>1</td>\n",
       "      <td>0</td>\n",
       "      <td>0</td>\n",
       "      <td>34.5</td>\n",
       "      <td>1</td>\n",
       "      <td>1</td>\n",
       "      <td>1</td>\n",
       "      <td>...</td>\n",
       "      <td>0</td>\n",
       "      <td>0</td>\n",
       "      <td>0</td>\n",
       "      <td>0</td>\n",
       "      <td>1</td>\n",
       "      <td>0</td>\n",
       "      <td>0</td>\n",
       "      <td>49.344942</td>\n",
       "      <td>0</td>\n",
       "      <td>0</td>\n",
       "    </tr>\n",
       "    <tr>\n",
       "      <td>...</td>\n",
       "      <td>...</td>\n",
       "      <td>...</td>\n",
       "      <td>...</td>\n",
       "      <td>...</td>\n",
       "      <td>...</td>\n",
       "      <td>...</td>\n",
       "      <td>...</td>\n",
       "      <td>...</td>\n",
       "      <td>...</td>\n",
       "      <td>...</td>\n",
       "      <td>...</td>\n",
       "      <td>...</td>\n",
       "      <td>...</td>\n",
       "      <td>...</td>\n",
       "      <td>...</td>\n",
       "      <td>...</td>\n",
       "      <td>...</td>\n",
       "      <td>...</td>\n",
       "      <td>...</td>\n",
       "      <td>...</td>\n",
       "      <td>...</td>\n",
       "    </tr>\n",
       "    <tr>\n",
       "      <td>9995</td>\n",
       "      <td>0</td>\n",
       "      <td>1</td>\n",
       "      <td>0</td>\n",
       "      <td>0</td>\n",
       "      <td>1</td>\n",
       "      <td>0</td>\n",
       "      <td>24.5</td>\n",
       "      <td>1</td>\n",
       "      <td>0</td>\n",
       "      <td>0</td>\n",
       "      <td>...</td>\n",
       "      <td>0</td>\n",
       "      <td>0</td>\n",
       "      <td>0</td>\n",
       "      <td>0</td>\n",
       "      <td>1</td>\n",
       "      <td>0</td>\n",
       "      <td>0</td>\n",
       "      <td>1172.051927</td>\n",
       "      <td>97226</td>\n",
       "      <td>764</td>\n",
       "    </tr>\n",
       "    <tr>\n",
       "      <td>9996</td>\n",
       "      <td>0</td>\n",
       "      <td>1</td>\n",
       "      <td>0</td>\n",
       "      <td>0</td>\n",
       "      <td>1</td>\n",
       "      <td>0</td>\n",
       "      <td>24.5</td>\n",
       "      <td>1</td>\n",
       "      <td>0</td>\n",
       "      <td>0</td>\n",
       "      <td>...</td>\n",
       "      <td>0</td>\n",
       "      <td>0</td>\n",
       "      <td>0</td>\n",
       "      <td>0</td>\n",
       "      <td>1</td>\n",
       "      <td>0</td>\n",
       "      <td>0</td>\n",
       "      <td>1173.538255</td>\n",
       "      <td>97224</td>\n",
       "      <td>764</td>\n",
       "    </tr>\n",
       "    <tr>\n",
       "      <td>9997</td>\n",
       "      <td>0</td>\n",
       "      <td>1</td>\n",
       "      <td>0</td>\n",
       "      <td>0</td>\n",
       "      <td>1</td>\n",
       "      <td>0</td>\n",
       "      <td>24.5</td>\n",
       "      <td>1</td>\n",
       "      <td>0</td>\n",
       "      <td>0</td>\n",
       "      <td>...</td>\n",
       "      <td>0</td>\n",
       "      <td>0</td>\n",
       "      <td>0</td>\n",
       "      <td>0</td>\n",
       "      <td>1</td>\n",
       "      <td>0</td>\n",
       "      <td>0</td>\n",
       "      <td>1173.073186</td>\n",
       "      <td>97227</td>\n",
       "      <td>764</td>\n",
       "    </tr>\n",
       "    <tr>\n",
       "      <td>9998</td>\n",
       "      <td>0</td>\n",
       "      <td>1</td>\n",
       "      <td>0</td>\n",
       "      <td>0</td>\n",
       "      <td>1</td>\n",
       "      <td>0</td>\n",
       "      <td>24.5</td>\n",
       "      <td>1</td>\n",
       "      <td>0</td>\n",
       "      <td>0</td>\n",
       "      <td>...</td>\n",
       "      <td>0</td>\n",
       "      <td>0</td>\n",
       "      <td>0</td>\n",
       "      <td>0</td>\n",
       "      <td>1</td>\n",
       "      <td>0</td>\n",
       "      <td>0</td>\n",
       "      <td>1173.016481</td>\n",
       "      <td>97225</td>\n",
       "      <td>765</td>\n",
       "    </tr>\n",
       "    <tr>\n",
       "      <td>9999</td>\n",
       "      <td>0</td>\n",
       "      <td>1</td>\n",
       "      <td>0</td>\n",
       "      <td>0</td>\n",
       "      <td>1</td>\n",
       "      <td>0</td>\n",
       "      <td>24.5</td>\n",
       "      <td>1</td>\n",
       "      <td>0</td>\n",
       "      <td>0</td>\n",
       "      <td>...</td>\n",
       "      <td>0</td>\n",
       "      <td>0</td>\n",
       "      <td>0</td>\n",
       "      <td>0</td>\n",
       "      <td>1</td>\n",
       "      <td>0</td>\n",
       "      <td>0</td>\n",
       "      <td>1172.514652</td>\n",
       "      <td>97225</td>\n",
       "      <td>765</td>\n",
       "    </tr>\n",
       "  </tbody>\n",
       "</table>\n",
       "<p>10000 rows × 35 columns</p>\n",
       "</div>"
      ],
      "text/plain": [
       "      cm_dummy  gamedummy  area_kanto  area_keihan  area_tokai  \\\n",
       "0            0          0           0            0           0   \n",
       "1            0          0           0            1           0   \n",
       "2            0          0           0            1           0   \n",
       "3            0          0           0            1           0   \n",
       "4            0          0           0            1           0   \n",
       "...        ...        ...         ...          ...         ...   \n",
       "9995         0          1           0            0           1   \n",
       "9996         0          1           0            0           1   \n",
       "9997         0          1           0            0           1   \n",
       "9998         0          1           0            0           1   \n",
       "9999         0          1           0            0           1   \n",
       "\n",
       "      area_keihanshin   age  sex  marry_dummy  job_dummy1  ...  T  F1  F2  F3  \\\n",
       "0                   1  44.5    1            1           1  ...  0   0   0   0   \n",
       "1                   0  34.5    1            1           1  ...  0   0   0   0   \n",
       "2                   0  24.5    1            0           0  ...  0   0   0   0   \n",
       "3                   0  44.5    1            1           1  ...  0   0   0   0   \n",
       "4                   0  34.5    1            1           1  ...  0   0   0   0   \n",
       "...               ...   ...  ...          ...         ...  ... ..  ..  ..  ..   \n",
       "9995                0  24.5    1            0           0  ...  0   0   0   0   \n",
       "9996                0  24.5    1            0           0  ...  0   0   0   0   \n",
       "9997                0  24.5    1            0           0  ...  0   0   0   0   \n",
       "9998                0  24.5    1            0           0  ...  0   0   0   0   \n",
       "9999                0  24.5    1            0           0  ...  0   0   0   0   \n",
       "\n",
       "      M1  M2  M3  TVwatch_day  gamesecond  gamecount  \n",
       "0      0   1   0    33.427600           0          0  \n",
       "1      0   1   0    31.542862           0          0  \n",
       "2      1   0   0    37.825805           0          0  \n",
       "3      0   1   0    36.345911           0          0  \n",
       "4      1   0   0    49.344942           0          0  \n",
       "...   ..  ..  ..          ...         ...        ...  \n",
       "9995   1   0   0  1172.051927       97226        764  \n",
       "9996   1   0   0  1173.538255       97224        764  \n",
       "9997   1   0   0  1173.073186       97227        764  \n",
       "9998   1   0   0  1173.016481       97225        765  \n",
       "9999   1   0   0  1172.514652       97225        765  \n",
       "\n",
       "[10000 rows x 35 columns]"
      ]
     },
     "execution_count": 6,
     "metadata": {},
     "output_type": "execute_result"
    }
   ],
   "source": [
    "data = pd.read_csv(\"q_data_x.csv\")\n",
    "data"
   ]
  },
  {
   "cell_type": "code",
   "execution_count": 9,
   "metadata": {
    "scrolled": true
   },
   "outputs": [],
   "source": [
    "# 共変量\n",
    "X = data[['TVwatch_day', 'age', 'sex', 'marry_dummy', 'child_dummy', 'inc', 'pmoney','area_kanto', 'area_tokai', 'area_keihanshin', \n",
    "          'job_dummy1', 'job_dummy2', 'job_dummy3', 'job_dummy4', 'job_dummy5', 'job_dummy6', 'job_dummy7',\n",
    "          'fam_str_dummy1', 'fam_str_dummy2', 'fam_str_dummy3', 'fam_str_dummy4']]\n",
    "\n",
    "# 群別変数\n",
    "Z = data['cm_dummy']\n"
   ]
  },
  {
   "cell_type": "markdown",
   "metadata": {},
   "source": [
    "# 傾向スコアを推定するモデル構築"
   ]
  },
  {
   "cell_type": "code",
   "execution_count": 10,
   "metadata": {},
   "outputs": [
    {
     "name": "stdout",
     "output_type": "stream",
     "text": [
      "Optimization terminated successfully.\n",
      "         Current function value: 0.542117\n",
      "         Iterations 6\n"
     ]
    },
    {
     "name": "stderr",
     "output_type": "stream",
     "text": [
      "C:\\Users\\mchai\\Anaconda\\lib\\site-packages\\numpy\\core\\fromnumeric.py:2389: FutureWarning: Method .ptp is deprecated and will be removed in a future version. Use numpy.ptp instead.\n",
      "  return ptp(axis=axis, out=out, **kwargs)\n"
     ]
    }
   ],
   "source": [
    "exog = sm.add_constant(X) # 切片の追加\n",
    "logit_model = sm.Logit(endog=Z, exog=exog) # ロジスティック回帰\n",
    "logit_res = logit_model.fit()"
   ]
  },
  {
   "cell_type": "markdown",
   "metadata": {},
   "source": [
    "# 傾向スコアの推定モデルの精度確認"
   ]
  },
  {
   "cell_type": "code",
   "execution_count": 16,
   "metadata": {},
   "outputs": [
    {
     "name": "stdout",
     "output_type": "stream",
     "text": [
      "AUC = 0.792\n",
      "-----ps------\n",
      " 0       0.046495\n",
      "1       0.254791\n",
      "2       0.186736\n",
      "3       0.227271\n",
      "4       0.240950\n",
      "          ...   \n",
      "9995    0.214722\n",
      "9996    0.214755\n",
      "9997    0.214745\n",
      "9998    0.214743\n",
      "9999    0.214732\n",
      "Length: 10000, dtype: float64\n"
     ]
    }
   ],
   "source": [
    "# AUCの算出\n",
    "\n",
    "ps = logit_res.predict(exog)\n",
    "\n",
    "\n",
    "print('AUC = {:.3f}'.format(roc_auc_score(y_true=Z, y_score=ps)))\n",
    "print('-----ps------\\n',ps)"
   ]
  },
  {
   "cell_type": "code",
   "execution_count": 73,
   "metadata": {},
   "outputs": [
    {
     "data": {
      "image/png": "[encoded data removed]",
      "text/plain": [
       "<Figure size 720x360 with 2 Axes>"
      ]
     },
     "metadata": {
      "needs_background": "light"
     },
     "output_type": "display_data"
    }
   ],
   "source": [
    "#キャリブレーションプロットを描画\n",
    "\n",
    "_, ax1 = plt.subplots(figsize=(10, 5))\n",
    "\n",
    "\n",
    "prob_true, prob_pred = calibration_curve(y_true=Z, y_prob=ps, n_bins=20)\n",
    "ax1.plot(prob_pred, prob_true, marker='o', label='calibration plot')\n",
    "ax1.plot([0,1], [0,1], linestyle='--', color='black', label='ideal')\n",
    "ax1.legend(bbox_to_anchor=(1.2, 0.9), loc='upper left', borderaxespad=0)\n",
    "ax1.set_xlabel('predicted probability')\n",
    "ax1.set_ylabel('true probability')\n",
    "\n",
    "ax2 = ax1.twinx()\n",
    "ax2.hist(ps, bins=20, histtype='step', rwidth=0.9)\n",
    "ax2.set_ylabel('count')\n",
    "plt.tight_layout()\n",
    "plt.show()"
   ]
  },
  {
   "cell_type": "markdown",
   "metadata": {},
   "source": [
    "# ATTの算出"
   ]
  },
  {
   "cell_type": "code",
   "execution_count": 20,
   "metadata": {
    "scrolled": true
   },
   "outputs": [
    {
     "data": {
      "text/plain": [
       "5428    0\n",
       "5429    0\n",
       "5430    0\n",
       "5431    0\n",
       "5432    0\n",
       "       ..\n",
       "9987    1\n",
       "9988    1\n",
       "9989    1\n",
       "9990    1\n",
       "9991    1\n",
       "Name: gamedummy, Length: 4144, dtype: int64"
      ]
     },
     "execution_count": 20,
     "metadata": {},
     "output_type": "execute_result"
    }
   ],
   "source": [
    "data.loc[data['cm_dummy']==1, 'gamedummy']"
   ]
  },
  {
   "cell_type": "code",
   "execution_count": 21,
   "metadata": {
    "scrolled": false
   },
   "outputs": [
    {
     "data": {
      "text/plain": [
       "0       5428\n",
       "1       5429\n",
       "2       5430\n",
       "3       5431\n",
       "4       5432\n",
       "        ... \n",
       "4139    9987\n",
       "4140    9988\n",
       "4141    9989\n",
       "4142    9990\n",
       "4143    9991\n",
       "Length: 4144, dtype: int64"
      ]
     },
     "execution_count": 21,
     "metadata": {},
     "output_type": "execute_result"
    }
   ],
   "source": [
    "# 群別変数Z=1のレコードの、結果変数Yのインデックス（行番号）を取得する\n",
    "pd.Series(data.loc[data['cm_dummy']==1, 'gamedummy'].index)"
   ]
  },
  {
   "cell_type": "code",
   "execution_count": 32,
   "metadata": {
    "scrolled": true
   },
   "outputs": [
    {
     "data": {
      "text/plain": [
       "1688    7116\n",
       "3321    8749\n",
       "1667    7095\n",
       "968     6396\n",
       "789     6217\n",
       "        ... \n",
       "2222    7650\n",
       "2551    7979\n",
       "1284    6712\n",
       "1870    7298\n",
       "2327    7755\n",
       "Length: 740, dtype: int64"
      ]
     },
     "execution_count": 32,
     "metadata": {},
     "output_type": "execute_result"
    }
   ],
   "source": [
    "# 群別変数Z=1のレコードの、結果変数Yのインデックス（行番号）を取得し、TGのデータ数分、ランダムに取得する\n",
    "# returnは、行番号がランダムに並んだSeries\n",
    "\n",
    "idx1 = pd.Series(data.loc[data['cm_dummy']==1, 'gamedummy'].index).sample(len(data.loc[data['gamedummy']==1]), replace=True, random_state=3)\n",
    "idx0 = pd.Series(data.loc[data['cm_dummy']==0, 'gamedummy'].index).sample(len(data.loc[data['gamedummy']==1]), replace=True, random_state=3)\n",
    "idx1"
   ]
  },
  {
   "cell_type": "code",
   "execution_count": 36,
   "metadata": {},
   "outputs": [
    {
     "data": {
      "text/plain": [
       "array([1, 1, 1, ..., 0, 0, 0], dtype=int64)"
      ]
     },
     "execution_count": 36,
     "metadata": {},
     "output_type": "execute_result"
    }
   ],
   "source": [
    "Z_tmp = np.r_[Z[idx1],Z[idx0]]\n",
    "Z_tmp"
   ]
  },
  {
   "cell_type": "code",
   "execution_count": 44,
   "metadata": {
    "scrolled": true
   },
   "outputs": [
    {
     "name": "stdout",
     "output_type": "stream",
     "text": [
      "sample_size:740\n"
     ]
    }
   ],
   "source": [
    "# ATTの推定\n",
    "\"\"\"ATT= TGにおける介入の効果\"\"\"\n",
    "\n",
    "# 結果変数（アプリ見たかどうか）\n",
    "Y = data['gamedummy']\n",
    "\n",
    "# TGのレコード数\n",
    "sample_size = len(data.loc[data['gamedummy']==1])\n",
    "print(f\"sample_size:{sample_size}\")\n",
    "\n",
    "\n",
    "ATT_list = []\n",
    "\n",
    "# 1000回試行して、ATTの値の平均 ± x のかたちで算出する\n",
    "for i in range(1000):\n",
    "\n",
    "    # 群別変数Z=1のレコードの、結果変数の列の、インデックス（行番号）を取得し、ランダムにTGのデータ数分を抽出して並び替え\n",
    "    idx1 = pd.Series(data.loc[data['cm_dummy']==1, 'gamedummy'].index).sample(n=sample_size, replace=True, random_state=i)\n",
    "    \n",
    "    # CGもTGと同じデータ数分の行番号をランダムに取得する\n",
    "    idx0 = pd.Series(data.loc[data['cm_dummy']==0, 'gamedummy'].index).sample(n=sample_size, replace=True, random_state=i)\n",
    "    \n",
    "    \n",
    "    # Z（CM見たかどうか）のデータフレームを結合する\n",
    "    # TGとCGから抽出したランダムな行を結合する\n",
    "    Z_tmp = np.r_[Z[idx1],Z[idx0]]\n",
    "\n",
    "    # Y(共変量)のデータフレームを結合する\n",
    "    Y_tmp = np.r_[Y[idx1],Y[idx0]]\n",
    "    \n",
    "    # ps=推定値のデータフレームを結合\n",
    "    ps_tmp = np.r_[ps[idx1], ps[idx0]]\n",
    "    \n",
    "    \n",
    "    \"\"\"\n",
    "    \"\"\"\n",
    "    w01_tmp = (1-Z_tmp)*ps_tmp / (1-ps_tmp)\n",
    "    \n",
    "    \n",
    "    \"\"\"\n",
    "    ATT = E(Y1 | z=1) - E(Y0  | z=1)\n",
    "   \n",
    "　   E(Y1 | z=1) = 実績値\n",
    "  　 E(Y0 | z=0) = \n",
    "    \n",
    "   \"\"\"\n",
    "    \n",
    "    E1 = np.mean(Y_tmp[Z_tmp==1])\n",
    "    \n",
    "    # ?????????????\n",
    "    E0 = np.sum(Y_tmp * w01_tmp) / np.sum(w01_tmp)\n",
    "    \n",
    "    \n",
    "    ATT = E1 - E0\n",
    "    \n",
    "    ATT_list.append(ATT)"
   ]
  },
  {
   "cell_type": "code",
   "execution_count": 45,
   "metadata": {},
   "outputs": [
    {
     "name": "stdout",
     "output_type": "stream",
     "text": [
      "att_avg: 0.024229549345693012\n",
      "att_std: 0.015076824307727868\n",
      "att_min: -0.00532102629745361\n",
      "att_max: 0.053780124988839634\n",
      "ATT = 0.024 ± 0.030 (s.d.=0.015)\n"
     ]
    }
   ],
   "source": [
    "# ATTの\n",
    "\n",
    "att_avg = np.mean(ATT_list)\n",
    "att_std = np.std(ATT_list)\n",
    "att_min = att_avg - att_std * 1.96\n",
    "att_max = att_avg + att_std * 1.96\n",
    "\n",
    "print(f'att_avg: {att_avg}')\n",
    "print(f'att_std: {att_std}')\n",
    "print(f'att_min: {att_min}')\n",
    "print(f'att_max: {att_max}')\n",
    "\n",
    "\n",
    "print('ATT = {:.3f} ± {:.3f} (s.d.={:.3f})'.format(np.mean(ATT_list), np.std(ATT_list)*1.96, np.std(ATT_list)))"
   ]
  },
  {
   "cell_type": "markdown",
   "metadata": {},
   "source": [
    "# 共変量の分布の確認"
   ]
  },
  {
   "cell_type": "code",
   "execution_count": 46,
   "metadata": {},
   "outputs": [],
   "source": [
    "\n",
    "def standardized_mean_difference(X1, X0):\n",
    "    \"\"\"標準化平均差(SMD）を算出する\"\"\"\n",
    "\n",
    "    N1 = len(X1)\n",
    "    N0 = len(X0)\n",
    "    s_pool = ((N1-1)*np.var(X1)+(N0-1)*np.var(X0))/(N1+N0-2)\n",
    "\n",
    "    return (np.mean(X1)-np.mean(X0))/np.sqrt(s_pool)\n",
    "\n",
    "\n",
    "def smd_on_the_treated(X, Z, ps): \n",
    "    \"\"\"傾向スコアを用いた調整前後のSMDを計算する関数\"\"\"\n",
    "    \n",
    "    \n",
    "    X1 = X[Z==1]\n",
    "    X0 = X[Z==0]\n",
    "    \n",
    "    ps0 = ps[Z==0]\n",
    "    \n",
    "    #_??????\n",
    "    X10 = X0*ps0/(1-ps0)\n",
    "    \n",
    "    \n",
    "    # マッチング調整前のSMD：TGとCGの間のSMD\n",
    "    smd_before = standardized_mean_difference(X1, X0)\n",
    "    \n",
    "    # マッチング調整後のSMD: TGと、CGのうちTGとマッチングしたデータ群の間のSMD\n",
    "    smd_after = standardized_mean_difference(X1, X10)\n",
    "\n",
    "\n",
    "    return smd_before, smd_after"
   ]
  },
  {
   "cell_type": "code",
   "execution_count": 48,
   "metadata": {},
   "outputs": [
    {
     "data": {
      "text/plain": [
       "Index(['TVwatch_day', 'age', 'sex', 'marry_dummy', 'child_dummy', 'inc',\n",
       "       'pmoney', 'area_kanto', 'area_tokai', 'area_keihanshin', 'job_dummy1',\n",
       "       'job_dummy2', 'job_dummy3', 'job_dummy4', 'job_dummy5', 'job_dummy6',\n",
       "       'job_dummy7', 'fam_str_dummy1', 'fam_str_dummy2', 'fam_str_dummy3',\n",
       "       'fam_str_dummy4'],\n",
       "      dtype='object')"
      ]
     },
     "execution_count": 48,
     "metadata": {},
     "output_type": "execute_result"
    }
   ],
   "source": [
    "X.columns"
   ]
  },
  {
   "cell_type": "code",
   "execution_count": 52,
   "metadata": {
    "scrolled": true
   },
   "outputs": [
    {
     "data": {
      "text/plain": [
       "[['TVwatch_day', 0.8014732533686983, -0.023691205503708377],\n",
       " ['age', 0.1513975252519879, 0.04551608310468542],\n",
       " ['sex', -0.15535667250632235, 0.024729396976535308],\n",
       " ['marry_dummy', 0.0835653179466395, 0.10002263316838318],\n",
       " ['child_dummy', 0.0050780515278276, 0.13993082936241302],\n",
       " ['inc', -0.10315940099520923, 0.030819476145570037],\n",
       " ['pmoney', -0.0040623403990144484, 0.0351092865613715],\n",
       " ['area_kanto', 0.2378880616448638, 0.0684135764782083],\n",
       " ['area_tokai', -0.0996939265744325, -0.04702668134023879],\n",
       " ['area_keihanshin', -0.5863509984132397, 0.1042744210257915],\n",
       " ['job_dummy1', -0.16797550020401764, 0.0036713872656061854],\n",
       " ['job_dummy2', -0.030224646262133767, 0.022785406946811592],\n",
       " ['job_dummy3', 0.06455907813719136, 0.0916094276143794],\n",
       " ['job_dummy4', 0.018801725685078218, 0.0506942380222613],\n",
       " ['job_dummy5', 0.20337628689433745, 0.16184398563086008],\n",
       " ['job_dummy6', 0.06326394230975375, 0.022166119120759442],\n",
       " ['job_dummy7', -0.08079646381108715, 0.058065848480471784],\n",
       " ['fam_str_dummy1', -0.016608991818177918, 0.09980684703649856],\n",
       " ['fam_str_dummy2', 0.11488290295873464, 0.008528326108850279],\n",
       " ['fam_str_dummy3', 0.00684615908927866, 0.03893382359657953],\n",
       " ['fam_str_dummy4', -0.12900907072046702, 0.08204842087795239]]"
      ]
     },
     "execution_count": 52,
     "metadata": {},
     "output_type": "execute_result"
    }
   ],
   "source": [
    "smd_list = []\n",
    "\n",
    "\n",
    "\n",
    "# 1共変量ごとに、その共変量のデータセット・Zのデータセット・傾向スコアのデータセットの3つのデータでSMDを算出して格納する\n",
    "for col_name in X.columns:\n",
    "    smd_before, smd_after = smd_on_the_treated(X=X[col_name], Z=Z, ps=ps)\n",
    "    smd_list.append([col_name, smd_before, smd_after])\n",
    "\n",
    "\n",
    "smd_list"
   ]
  },
  {
   "cell_type": "code",
   "execution_count": 56,
   "metadata": {
    "scrolled": true
   },
   "outputs": [
    {
     "data": {
      "text/html": [
       "<div>\n",
       "<style scoped>\n",
       "    .dataframe tbody tr th:only-of-type {\n",
       "        vertical-align: middle;\n",
       "    }\n",
       "\n",
       "    .dataframe tbody tr th {\n",
       "        vertical-align: top;\n",
       "    }\n",
       "\n",
       "    .dataframe thead th {\n",
       "        text-align: right;\n",
       "    }\n",
       "</style>\n",
       "<table border=\"1\" class=\"dataframe\">\n",
       "  <thead>\n",
       "    <tr style=\"text-align: right;\">\n",
       "      <th></th>\n",
       "      <th>covariate</th>\n",
       "      <th>SMD(before)</th>\n",
       "      <th>SMD(after)</th>\n",
       "    </tr>\n",
       "  </thead>\n",
       "  <tbody>\n",
       "    <tr>\n",
       "      <td>0</td>\n",
       "      <td>TVwatch_day</td>\n",
       "      <td>0.801473</td>\n",
       "      <td>-0.023691</td>\n",
       "    </tr>\n",
       "    <tr>\n",
       "      <td>1</td>\n",
       "      <td>age</td>\n",
       "      <td>0.151398</td>\n",
       "      <td>0.045516</td>\n",
       "    </tr>\n",
       "    <tr>\n",
       "      <td>2</td>\n",
       "      <td>sex</td>\n",
       "      <td>-0.155357</td>\n",
       "      <td>0.024729</td>\n",
       "    </tr>\n",
       "    <tr>\n",
       "      <td>3</td>\n",
       "      <td>marry_dummy</td>\n",
       "      <td>0.083565</td>\n",
       "      <td>0.100023</td>\n",
       "    </tr>\n",
       "    <tr>\n",
       "      <td>4</td>\n",
       "      <td>child_dummy</td>\n",
       "      <td>0.005078</td>\n",
       "      <td>0.139931</td>\n",
       "    </tr>\n",
       "    <tr>\n",
       "      <td>5</td>\n",
       "      <td>inc</td>\n",
       "      <td>-0.103159</td>\n",
       "      <td>0.030819</td>\n",
       "    </tr>\n",
       "    <tr>\n",
       "      <td>6</td>\n",
       "      <td>pmoney</td>\n",
       "      <td>-0.004062</td>\n",
       "      <td>0.035109</td>\n",
       "    </tr>\n",
       "    <tr>\n",
       "      <td>7</td>\n",
       "      <td>area_kanto</td>\n",
       "      <td>0.237888</td>\n",
       "      <td>0.068414</td>\n",
       "    </tr>\n",
       "    <tr>\n",
       "      <td>8</td>\n",
       "      <td>area_tokai</td>\n",
       "      <td>-0.099694</td>\n",
       "      <td>-0.047027</td>\n",
       "    </tr>\n",
       "    <tr>\n",
       "      <td>9</td>\n",
       "      <td>area_keihanshin</td>\n",
       "      <td>-0.586351</td>\n",
       "      <td>0.104274</td>\n",
       "    </tr>\n",
       "    <tr>\n",
       "      <td>10</td>\n",
       "      <td>job_dummy1</td>\n",
       "      <td>-0.167976</td>\n",
       "      <td>0.003671</td>\n",
       "    </tr>\n",
       "    <tr>\n",
       "      <td>11</td>\n",
       "      <td>job_dummy2</td>\n",
       "      <td>-0.030225</td>\n",
       "      <td>0.022785</td>\n",
       "    </tr>\n",
       "    <tr>\n",
       "      <td>12</td>\n",
       "      <td>job_dummy3</td>\n",
       "      <td>0.064559</td>\n",
       "      <td>0.091609</td>\n",
       "    </tr>\n",
       "    <tr>\n",
       "      <td>13</td>\n",
       "      <td>job_dummy4</td>\n",
       "      <td>0.018802</td>\n",
       "      <td>0.050694</td>\n",
       "    </tr>\n",
       "    <tr>\n",
       "      <td>14</td>\n",
       "      <td>job_dummy5</td>\n",
       "      <td>0.203376</td>\n",
       "      <td>0.161844</td>\n",
       "    </tr>\n",
       "    <tr>\n",
       "      <td>15</td>\n",
       "      <td>job_dummy6</td>\n",
       "      <td>0.063264</td>\n",
       "      <td>0.022166</td>\n",
       "    </tr>\n",
       "    <tr>\n",
       "      <td>16</td>\n",
       "      <td>job_dummy7</td>\n",
       "      <td>-0.080796</td>\n",
       "      <td>0.058066</td>\n",
       "    </tr>\n",
       "    <tr>\n",
       "      <td>17</td>\n",
       "      <td>fam_str_dummy1</td>\n",
       "      <td>-0.016609</td>\n",
       "      <td>0.099807</td>\n",
       "    </tr>\n",
       "    <tr>\n",
       "      <td>18</td>\n",
       "      <td>fam_str_dummy2</td>\n",
       "      <td>0.114883</td>\n",
       "      <td>0.008528</td>\n",
       "    </tr>\n",
       "    <tr>\n",
       "      <td>19</td>\n",
       "      <td>fam_str_dummy3</td>\n",
       "      <td>0.006846</td>\n",
       "      <td>0.038934</td>\n",
       "    </tr>\n",
       "    <tr>\n",
       "      <td>20</td>\n",
       "      <td>fam_str_dummy4</td>\n",
       "      <td>-0.129009</td>\n",
       "      <td>0.082048</td>\n",
       "    </tr>\n",
       "  </tbody>\n",
       "</table>\n",
       "</div>"
      ],
      "text/plain": [
       "          covariate  SMD(before)  SMD(after)\n",
       "0       TVwatch_day     0.801473   -0.023691\n",
       "1               age     0.151398    0.045516\n",
       "2               sex    -0.155357    0.024729\n",
       "3       marry_dummy     0.083565    0.100023\n",
       "4       child_dummy     0.005078    0.139931\n",
       "5               inc    -0.103159    0.030819\n",
       "6            pmoney    -0.004062    0.035109\n",
       "7        area_kanto     0.237888    0.068414\n",
       "8        area_tokai    -0.099694   -0.047027\n",
       "9   area_keihanshin    -0.586351    0.104274\n",
       "10       job_dummy1    -0.167976    0.003671\n",
       "11       job_dummy2    -0.030225    0.022785\n",
       "12       job_dummy3     0.064559    0.091609\n",
       "13       job_dummy4     0.018802    0.050694\n",
       "14       job_dummy5     0.203376    0.161844\n",
       "15       job_dummy6     0.063264    0.022166\n",
       "16       job_dummy7    -0.080796    0.058066\n",
       "17   fam_str_dummy1    -0.016609    0.099807\n",
       "18   fam_str_dummy2     0.114883    0.008528\n",
       "19   fam_str_dummy3     0.006846    0.038934\n",
       "20   fam_str_dummy4    -0.129009    0.082048"
      ]
     },
     "execution_count": 56,
     "metadata": {},
     "output_type": "execute_result"
    }
   ],
   "source": [
    "# smdリストをDFに変換\n",
    "smd_df = pd.DataFrame(data=smd_list, columns=['covariate', 'SMD(before)', 'SMD(after)'])\n",
    "smd_df"
   ]
  },
  {
   "cell_type": "code",
   "execution_count": 72,
   "metadata": {
    "scrolled": true
   },
   "outputs": [
    {
     "data": {
      "text/plain": [
       "<matplotlib.legend.Legend at 0x1cc93d1cfc8>"
      ]
     },
     "execution_count": 72,
     "metadata": {},
     "output_type": "execute_result"
    },
    {
     "data": {
      "image/png": "[encoded data removed]",
      "text/plain": [
       "<Figure size 360x720 with 1 Axes>"
      ]
     },
     "metadata": {
      "needs_background": "light"
     },
     "output_type": "display_data"
    }
   ],
   "source": [
    "# 描画\n",
    "\n",
    "\n",
    "plt.figure(figsize=(5,10))\n",
    "\n",
    "# データ\n",
    "plt.scatter(smd_df['SMD(before)'], smd_df['covariate'], label='SMD(before)')\n",
    "plt.scatter(smd_df['SMD(after)'], smd_df['covariate'], label='SMD(after)')\n",
    "\n",
    "# X=０に縦線を引く\n",
    "# X.shape ➡　Xの行数(10000)、列数(21)\n",
    "plt.vlines(x=[0], ymin=-1, ymax=X.shape[1])\n",
    "\n",
    "\n",
    "# グリッドを引く\n",
    "plt.grid()\n",
    "\n",
    "\n",
    "plt.xlabel('SMD')\n",
    "plt.ylabel('covariate')\n",
    "\n",
    "\n",
    "plt.legend()"
   ]
  },
  {
   "cell_type": "code",
   "execution_count": 64,
   "metadata": {},
   "outputs": [
    {
     "data": {
      "text/plain": [
       "(10000, 21)"
      ]
     },
     "execution_count": 64,
     "metadata": {},
     "output_type": "execute_result"
    }
   ],
   "source": [
    "X.shape"
   ]
  },
  {
   "cell_type": "code",
   "execution_count": null,
   "metadata": {},
   "outputs": [],
   "source": []
  }
 ],
 "metadata": {
  "kernelspec": {
   "display_name": "Python 3",
   "language": "python",
   "name": "python3"
  },
  "language_info": {
   "codemirror_mode": {
    "name": "ipython",
    "version": 3
   },
   "file_extension": ".py",
   "mimetype": "text/x-python",
   "name": "python",
   "nbconvert_exporter": "python",
   "pygments_lexer": "ipython3",
   "version": "3.7.4"
  },
  "widgets": {
   "application/vnd.jupyter.widget-state+json": {
    "state": {},
    "version_major": 2,
    "version_minor": 0
   }
  }
 },
 "nbformat": 4,
 "nbformat_minor": 2
}
