{
  "nbformat": 4,
  "nbformat_minor": 0,
  "metadata": {
    "colab": {
      "name": "Propensity_analysis_sample_code.ipynb",
      "provenance": [],
      "collapsed_sections": [],
      "authorship_tag": "ABX9TyP9mODWSTXa+R4HNNq3mmFy",
      "include_colab_link": true
    },
    "kernelspec": {
      "name": "python3",
      "display_name": "Python 3"
    },
    "language_info": {
      "name": "python"
    }
  },
  "cells": [
    {
      "cell_type": "markdown",
      "metadata": {
        "id": "view-in-github",
        "colab_type": "text"
      },
      "source": [
        "<a href=\"https://colab.research.google.com/github/Ayana2020/EffectValidation/blob/master/Propensity_analysis_sample_code.ipynb\" target=\"_parent\"><img src=\"https://colab.research.google.com/assets/colab-badge.svg\" alt=\"Open In Colab\"/></a>"
      ]
    },
    {
      "cell_type": "markdown",
      "metadata": {
        "id": "uh7i_8hk8ZtM"
      },
      "source": [
        "傾向スコアマッチングの実装例1"
      ]
    },
    {
      "cell_type": "code",
      "metadata": {
        "id": "abJUUkugDyg2"
      },
      "source": [
        ""
      ],
      "execution_count": null,
      "outputs": []
    },
    {
      "cell_type": "code",
      "metadata": {
        "id": "4SQD_XA98f0C",
        "colab": {
          "base_uri": "https://localhost:8080/",
          "height": 168
        },
        "outputId": "797d7049-fcf1-4a7a-9d2d-b397bb7d2367"
      },
      "source": [
        "import numpy as np\n",
        "import pandas as pd\n",
        "import matplotlib.pyplot as plt\n",
        "import matplotlib as mpl\n",
        "import seaborn as sns\n",
        "\n",
        "\n",
        "import statsmodels.api as sm\n",
        "\n",
        "\n",
        "from sklearn.calibration import calibration_curve\n",
        "from sklearn.metrics import roc_auc_score\n",
        "\n",
        "import itertools\n",
        "import time"
      ],
      "execution_count": null,
      "outputs": [
        {
          "output_type": "error",
          "ename": "NameError",
          "evalue": "ignored",
          "traceback": [
            "\u001b[0;31m---------------------------------------------------------------------------\u001b[0m",
            "\u001b[0;31mNameError\u001b[0m                                 Traceback (most recent call last)",
            "\u001b[0;32m<ipython-input-1-c801c9cfe944>\u001b[0m in \u001b[0;36m<module>\u001b[0;34m()\u001b[0m\n\u001b[0;32m----> 1\u001b[0;31m \u001b[0mbbb\u001b[0m\u001b[0;34m\u001b[0m\u001b[0;34m\u001b[0m\u001b[0m\n\u001b[0m",
            "\u001b[0;31mNameError\u001b[0m: name 'bbb' is not defined"
          ]
        }
      ]
    },
    {
      "cell_type": "markdown",
      "metadata": {
        "id": "vXfpWqW5DzKe"
      },
      "source": [
        "# データ前処理"
      ]
    },
    {
      "cell_type": "code",
      "metadata": {
        "id": "o8lcJmx0D3bC"
      },
      "source": [
        "data = pd.read_csv(\"q_data_x.csv\")"
      ],
      "execution_count": null,
      "outputs": []
    },
    {
      "cell_type": "code",
      "metadata": {
        "id": "8bq0OI0cECfX"
      },
      "source": [
        "a"
      ],
      "execution_count": null,
      "outputs": []
    },
    {
      "cell_type": "code",
      "metadata": {
        "id": "6GEMEVnKD9gy"
      },
      "source": [
        "# 共変量\n",
        "X = data[['TVwatch_day', 'age', 'sex', 'marry_dummy', 'child_dummy', 'inc', 'pmoney','area_kanto', 'area_tokai', 'area_keihanshin', \n",
        "          'job_dummy1', 'job_dummy2', 'job_dummy3', 'job_dummy4', 'job_dummy5', 'job_dummy6', 'job_dummy7',\n",
        "          'fam_str_dummy1', 'fam_str_dummy2', 'fam_str_dummy3', 'fam_str_dummy4']]\n",
        "\n",
        "# 群別変数\n",
        "Z = data['cm_dummy']"
      ],
      "execution_count": null,
      "outputs": []
    },
    {
      "cell_type": "markdown",
      "metadata": {
        "id": "D4I_-HRa8Wrf"
      },
      "source": [
        "# 傾向スコア推定モデルの構築"
      ]
    },
    {
      "cell_type": "code",
      "metadata": {
        "id": "QBdDR6lvEHV1"
      },
      "source": [
        "exog = sm.add_constant(X) # 切片の追加\n",
        "logit_model = sm.Logit(endog=Z, exog=exog) # ロジスティック回帰\n",
        "logit_res = logit_model.fit()"
      ],
      "execution_count": null,
      "outputs": []
    },
    {
      "cell_type": "code",
      "metadata": {
        "id": "BbG8Y7bMEacV"
      },
      "source": [
        ""
      ],
      "execution_count": null,
      "outputs": []
    },
    {
      "cell_type": "markdown",
      "metadata": {
        "id": "XuIYiJkPEbZY"
      },
      "source": [
        "# 傾向スコア推定モデルの精度確認"
      ]
    },
    {
      "cell_type": "code",
      "metadata": {
        "id": "cyADSEntEODZ"
      },
      "source": [
        "\n",
        "\n",
        "# AUCの算出\n",
        "\n",
        "ps = logit_res.predict(exog)\n",
        "\n",
        "\n",
        "print('AUC = {:.3f}'.format(roc_auc_score(y_true=Z, y_score=ps)))\n",
        "print('-----ps------\\n',ps)"
      ],
      "execution_count": null,
      "outputs": []
    },
    {
      "cell_type": "code",
      "metadata": {
        "id": "71v3BmKUES6T"
      },
      "source": [
        "#キャリブレーションプロットを描画\n",
        "\n",
        "_, ax1 = plt.subplots(figsize=(10, 5))\n",
        "\n",
        "\n",
        "prob_true, prob_pred = calibration_curve(y_true=Z, y_prob=ps, n_bins=20)\n",
        "ax1.plot(prob_pred, prob_true, marker='o', label='calibration plot')\n",
        "ax1.plot([0,1], [0,1], linestyle='--', color='black', label='ideal')\n",
        "ax1.legend(bbox_to_anchor=(1.2, 0.9), loc='upper left', borderaxespad=0)\n",
        "ax1.set_xlabel('predicted probability')\n",
        "ax1.set_ylabel('true probability')\n",
        "\n",
        "ax2 = ax1.twinx()\n",
        "ax2.hist(ps, bins=20, histtype='step', rwidth=0.9)\n",
        "ax2.set_ylabel('count')\n",
        "plt.tight_layout()\n",
        "plt.show()"
      ],
      "execution_count": null,
      "outputs": []
    },
    {
      "cell_type": "markdown",
      "metadata": {
        "id": "nqXS69ETEhZh"
      },
      "source": [
        "# ATTの算出"
      ]
    },
    {
      "cell_type": "code",
      "metadata": {
        "id": "DvQaGVhgEpJa"
      },
      "source": [
        "# ATTの推定\n",
        "\"\"\"ATT= TGにおける介入の効果\"\"\"\n",
        "\n",
        "# 結果変数（アプリ見たかどうか）\n",
        "Y = data['gamedummy']\n",
        "\n",
        "# TGのレコード数\n",
        "sample_size = len(data.loc[data['gamedummy']==1])\n",
        "print(f\"sample_size:{sample_size}\")\n",
        "\n",
        "\n",
        "ATT_list = []\n",
        "\n",
        "# 1000回試行して、ATTの値の平均 ± x のかたちで算出する\n",
        "for i in range(1000):\n",
        "\n",
        "    # 群別変数Z=1のレコードの、結果変数の列の、インデックス（行番号）を取得し、ランダムにTGのデータ数分を抽出して並び替え\n",
        "    idx1 = pd.Series(data.loc[data['cm_dummy']==1, 'gamedummy'].index).sample(n=sample_size, replace=True, random_state=i)\n",
        "    \n",
        "    # CGもTGと同じデータ数分の行番号をランダムに取得する\n",
        "    idx0 = pd.Series(data.loc[data['cm_dummy']==0, 'gamedummy'].index).sample(n=sample_size, replace=True, random_state=i)\n",
        "    \n",
        "    \n",
        "    # Z（CM見たかどうか）のデータフレームを結合する\n",
        "    # TGとCGから抽出したランダムな行を結合する\n",
        "    Z_tmp = np.r_[Z[idx1],Z[idx0]]\n",
        "\n",
        "    # Y(共変量)のデータフレームを結合する\n",
        "    Y_tmp = np.r_[Y[idx1],Y[idx0]]\n",
        "    \n",
        "    # ps=推定値のデータフレームを結合\n",
        "    ps_tmp = np.r_[ps[idx1], ps[idx0]]\n",
        "    \n",
        "    \n",
        "    \"\"\"\n",
        "    \"\"\"\n",
        "    w01_tmp = (1-Z_tmp)*ps_tmp / (1-ps_tmp)\n",
        "    \n",
        "    \n",
        "    \"\"\"\n",
        "    ATT = E(Y1 | z=1) - E(Y0  | z=1)\n",
        "   \n",
        "　   E(Y1 | z=1) = 実績値\n",
        "  　 E(Y0 | z=0) = \n",
        "    \n",
        "   \"\"\"\n",
        "    \n",
        "    E1 = np.mean(Y_tmp[Z_tmp==1])\n",
        "    \n",
        "    # ?????????????\n",
        "    E0 = np.sum(Y_tmp * w01_tmp) / np.sum(w01_tmp)\n",
        "    \n",
        "    \n",
        "    ATT = E1 - E0\n",
        "    \n",
        "    ATT_list.append(ATT)"
      ],
      "execution_count": null,
      "outputs": []
    },
    {
      "cell_type": "code",
      "metadata": {
        "id": "VtPCpeOKEwoT"
      },
      "source": [
        "# ATTの\n",
        "\n",
        "att_avg = np.mean(ATT_list)\n",
        "att_std = np.std(ATT_list)\n",
        "att_min = att_avg - att_std * 1.96\n",
        "att_max = att_avg + att_std * 1.96\n",
        "\n",
        "print(f'att_avg: {att_avg}')\n",
        "print(f'att_std: {att_std}')\n",
        "print(f'att_min: {att_min}')\n",
        "print(f'att_max: {att_max}')\n",
        "\n",
        "\n",
        "print('ATT = {:.3f} ± {:.3f} (s.d.={:.3f})'.format(np.mean(ATT_list), np.std(ATT_list)*1.96, np.std(ATT_list)))"
      ],
      "execution_count": null,
      "outputs": []
    },
    {
      "cell_type": "code",
      "metadata": {
        "id": "9gqVpnlQE0Uo"
      },
      "source": [
        ""
      ],
      "execution_count": null,
      "outputs": []
    },
    {
      "cell_type": "code",
      "metadata": {
        "id": "fomKyhguE1WP"
      },
      "source": [
        ""
      ],
      "execution_count": null,
      "outputs": []
    },
    {
      "cell_type": "markdown",
      "metadata": {
        "id": "faTKwuraE2CN"
      },
      "source": [
        "# 共変量の分布の確認"
      ]
    },
    {
      "cell_type": "code",
      "metadata": {
        "id": "cROmME6SE4fV"
      },
      "source": [
        "\n",
        "def standardized_mean_difference(X1, X0):\n",
        "    \"\"\"標準化平均差(SMD）を算出する\"\"\"\n",
        "\n",
        "    N1 = len(X1)\n",
        "    N0 = len(X0)\n",
        "    s_pool = ((N1-1)*np.var(X1)+(N0-1)*np.var(X0))/(N1+N0-2)\n",
        "\n",
        "    return (np.mean(X1)-np.mean(X0))/np.sqrt(s_pool)\n",
        "\n",
        "\n",
        "def smd_on_the_treated(X, Z, ps): \n",
        "    \"\"\"傾向スコアを用いた調整前後のSMDを計算する関数\"\"\"\n",
        "    \n",
        "    \n",
        "    X1 = X[Z==1]\n",
        "    X0 = X[Z==0]\n",
        "    \n",
        "    ps0 = ps[Z==0]\n",
        "    \n",
        "    #_??????\n",
        "    X10 = X0*ps0/(1-ps0)\n",
        "    \n",
        "    \n",
        "    # マッチング調整前のSMD：TGとCGの間のSMD\n",
        "    smd_before = standardized_mean_difference(X1, X0)\n",
        "    \n",
        "    # マッチング調整後のSMD: TGと、CGのうちTGとマッチングしたデータ群の間のSMD\n",
        "    smd_after = standardized_mean_difference(X1, X10)\n",
        "\n",
        "\n",
        "    return smd_before, smd_after"
      ],
      "execution_count": null,
      "outputs": []
    },
    {
      "cell_type": "code",
      "metadata": {
        "id": "kt3jLfcxE7nJ"
      },
      "source": [
        "smd_list = []\n",
        "\n",
        "\n",
        "\n",
        "# 1共変量ごとに、その共変量のデータセット・Zのデータセット・傾向スコアのデータセットの3つのデータでSMDを算出して格納する\n",
        "for col_name in X.columns:\n",
        "    smd_before, smd_after = smd_on_the_treated(X=X[col_name], Z=Z, ps=ps)\n",
        "    smd_list.append([col_name, smd_before, smd_after])\n",
        "\n",
        "\n",
        "# smdリストをDFに変換\n",
        "smd_df = pd.DataFrame(data=smd_list, columns=['covariate', 'SMD(before)', 'SMD(after)'])\n",
        "smd_df"
      ],
      "execution_count": null,
      "outputs": []
    },
    {
      "cell_type": "code",
      "metadata": {
        "id": "6XxXBTtVFA2E"
      },
      "source": [
        "# 傾向スコア調整前後の共変量の分布を描画\n",
        "\n",
        "\n",
        "plt.figure(figsize=(5,10))\n",
        "\n",
        "# データ\n",
        "plt.scatter(smd_df['SMD(before)'], smd_df['covariate'], label='SMD(before)')\n",
        "plt.scatter(smd_df['SMD(after)'], smd_df['covariate'], label='SMD(after)')\n",
        "\n",
        "# X=０に縦線を引く\n",
        "# X.shape ➡　Xの行数(10000)、列数(21)\n",
        "plt.vlines(x=[0], ymin=-1, ymax=X.shape[1])\n",
        "\n",
        "\n",
        "# グリッドを引く\n",
        "plt.grid()\n",
        "\n",
        "\n",
        "plt.xlabel('SMD')\n",
        "plt.ylabel('covariate')\n",
        "\n",
        "\n",
        "plt.legend()"
      ],
      "execution_count": null,
      "outputs": []
    }
  ]
}